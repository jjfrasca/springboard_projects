{
 "cells": [
  {
   "cell_type": "code",
   "execution_count": 3,
   "metadata": {
    "scrolled": true
   },
   "outputs": [
    {
     "name": "stdout",
     "output_type": "stream",
     "text": [
      "[1, 0, 3, 5]\n",
      "[1, 0, 3, 5]\n"
     ]
    }
   ],
   "source": [
    "def myfunc(x):    \n",
    "   x[1]=0    \n",
    "   return x\n",
    "\n",
    "A = [1,2,3]\n",
    "A_old = A\n",
    "A_new = myfunc(A)\n",
    "A_new.append(5)\n",
    "print(A_old)\n",
    "print(A_new)"
   ]
  },
  {
   "cell_type": "code",
   "execution_count": 7,
   "metadata": {},
   "outputs": [
    {
     "name": "stdout",
     "output_type": "stream",
     "text": [
      "[1, 0, 3, 5, 2, 2, 2, 2]\n",
      "[1, 0, 3, 5, 2, 2, 2, 2]\n"
     ]
    }
   ],
   "source": [
    "B = A.append(2)\n",
    "print(A_old)\n",
    "print(A_new)"
   ]
  },
  {
   "cell_type": "code",
   "execution_count": 42,
   "metadata": {},
   "outputs": [],
   "source": [
    "def which_coins(price, coins):\n",
    "    coins_needed = []\n",
    "    #len(coins)\n",
    "    num_coin_1 = int(price/coins[-1])\n",
    "    coins_needed.append(num_coin_1)\n",
    "    \n",
    "    remaining_price = price - (num_coin_1 * coins[-1])\n",
    "    \n",
    "    if remaining_price >= coins[-2]:\n",
    "        num_coin_2 = int(remaining_price/coins[-2])\n",
    "        coins_needed.append(num_coin_2)\n",
    "        remaining_price = remaining_price - (num_coin_2 * coins[-2])\n",
    "    else:\n",
    "        coins_needed.append(0)\n",
    "    \n",
    "    if remaining_price >= coins[-3]:\n",
    "        num_coin_3 = int(remaining_price/coins[-3])\n",
    "        coins_needed.append(num_coin_3)\n",
    "    else:\n",
    "        coins_needed.append(0)\n",
    "    \n",
    "    return coins_needed[::-1]"
   ]
  },
  {
   "cell_type": "code",
   "execution_count": 43,
   "metadata": {},
   "outputs": [
    {
     "data": {
      "text/plain": [
       "[0, 1, 3]"
      ]
     },
     "execution_count": 43,
     "metadata": {},
     "output_type": "execute_result"
    }
   ],
   "source": [
    "which_coins(85, [5, 10, 25])"
   ]
  },
  {
   "cell_type": "code",
   "execution_count": 1,
   "metadata": {},
   "outputs": [
    {
     "ename": "NameError",
     "evalue": "name 'num_coin_1' is not defined",
     "output_type": "error",
     "traceback": [
      "\u001b[0;31m---------------------------------------------------------------------------\u001b[0m",
      "\u001b[0;31mNameError\u001b[0m                                 Traceback (most recent call last)",
      "\u001b[0;32m<ipython-input-1-eb5aa847337e>\u001b[0m in \u001b[0;36m<module>\u001b[0;34m\u001b[0m\n\u001b[0;32m----> 1\u001b[0;31m \u001b[0mnum_coin_1\u001b[0m\u001b[0;34m\u001b[0m\u001b[0;34m\u001b[0m\u001b[0m\n\u001b[0m",
      "\u001b[0;31mNameError\u001b[0m: name 'num_coin_1' is not defined"
     ]
    }
   ],
   "source": [
    "num_coin_1"
   ]
  },
  {
   "cell_type": "code",
   "execution_count": 7,
   "metadata": {},
   "outputs": [],
   "source": [
    "def get_intersection(l1, l2):\n",
    "    intersect = []\n",
    "    #return [l in l2 for l in l1]\n",
    "    return [i for i in l1 if i in l2]"
   ]
  },
  {
   "cell_type": "code",
   "execution_count": 8,
   "metadata": {},
   "outputs": [
    {
     "data": {
      "text/plain": [
       "[False, True, False, False, True]"
      ]
     },
     "execution_count": 8,
     "metadata": {},
     "output_type": "execute_result"
    }
   ],
   "source": [
    "get_intersection([2, 5, 3, 8, 1], [1, 9, 5, 6])"
   ]
  },
  {
   "cell_type": "code",
   "execution_count": 9,
   "metadata": {},
   "outputs": [],
   "source": [
    "#create a deque object\n",
    "#pop one list to the front of the deque\n",
    "#pop 2nd list to the end of the deque\n",
    "#compare the beginning and "
   ]
  },
  {
   "cell_type": "code",
   "execution_count": 38,
   "metadata": {},
   "outputs": [],
   "source": [
    "def split_odd_even(lst):\n",
    "    even = []\n",
    "    odd = []\n",
    "    for l in lst:\n",
    "        if l % 2 == 0:\n",
    "            even.append(l)\n",
    "        else:\n",
    "            odd.append(l)\n",
    "        res = odd + even\n",
    "    print(res)"
   ]
  },
  {
   "cell_type": "code",
   "execution_count": 39,
   "metadata": {},
   "outputs": [
    {
     "name": "stdout",
     "output_type": "stream",
     "text": [
      "[1, 3, 5, 7, 9, 2, 4, 6, 8]\n"
     ]
    }
   ],
   "source": [
    "split_odd_even([1,2,3,4,5,6,7,8,9])"
   ]
  },
  {
   "cell_type": "code",
   "execution_count": null,
   "metadata": {},
   "outputs": [],
   "source": []
  },
  {
   "cell_type": "code",
   "execution_count": 6,
   "metadata": {},
   "outputs": [],
   "source": [
    "def sort_mod3(lst):\n",
    "    mod_list = []\n",
    "    \n",
    "    for i in lst:\n",
    "        mod_list.append(i%3)\n",
    "    \n",
    "    zipped = list(zip(mod_list, lst))\n",
    "    \n",
    "    #sort zipped list \n",
    "    sort_zip = sorted(zipped)\n",
    "    \n",
    "    #print 1st element (aka mod_list) sorted\n",
    "    print([i[1] for i in sort_zip])   "
   ]
  },
  {
   "cell_type": "code",
   "execution_count": 7,
   "metadata": {},
   "outputs": [
    {
     "name": "stdout",
     "output_type": "stream",
     "text": [
      "[3, 6, 9, 12, 1, 4, 10, 2, 8]\n"
     ]
    }
   ],
   "source": [
    "sort_mod3([4, 6, 1, 3, 9, 2, 8, 10, 12])"
   ]
  },
  {
   "cell_type": "code",
   "execution_count": null,
   "metadata": {},
   "outputs": [],
   "source": [
    "def numerical(word):\n",
    "    #get alphabet sorted\n",
    "    alpha = ['a','b','c','d','e',f','g','i,j,k,l,m,n,o,p,q,r,s,t,u,v,w,x,y,z]\n",
    "    #for each letter in word, sum it's index in alpha list + 1\n",
    "    \n",
    "    "
   ]
  },
  {
   "cell_type": "code",
   "execution_count": 24,
   "metadata": {},
   "outputs": [],
   "source": [
    "import pandas as pd\n",
    "\n",
    "def sort_json(json):\n",
    "    #import json object as dataframe\n",
    "    df = pd.read_json(json)\n",
    "    #sort_values by year\n",
    "    print(df.sort_values(by='year'))"
   ]
  },
  {
   "cell_type": "raw",
   "metadata": {},
   "source": [
    "sort_json('[{\"make\": \"Honda\", \"model\": \"Civic\", \"year\": 1993}, {\"make\": \"Toyota\", \"model\": \"Accord\", \"year\": 1997}, {\"make\": \"Toyota\", \"model\": \"Accord\", \"year\": 1992}]')"
   ]
  },
  {
   "cell_type": "code",
   "execution_count": 22,
   "metadata": {},
   "outputs": [],
   "source": [
    "from collections import *\n",
    "\n",
    "def sort_json_native(object):\n",
    "    #sort by year\n",
    "    new_dict = dict(object)\n",
    "    return OrderedDict(sorted(new_dict.items()))"
   ]
  },
  {
   "cell_type": "code",
   "execution_count": 23,
   "metadata": {},
   "outputs": [
    {
     "data": {
      "text/plain": [
       "OrderedDict([('rajnish', '9'),\n",
       "             ('ravi', '10'),\n",
       "             ('sanjeev', '15'),\n",
       "             ('suraj', '32'),\n",
       "             ('yash', '2')])"
      ]
     },
     "execution_count": 23,
     "metadata": {},
     "output_type": "execute_result"
    }
   ],
   "source": [
    "sort_json_native({'ravi':'10','rajnish':'9','sanjeev':'15','yash':'2','suraj':'32'})"
   ]
  },
  {
   "cell_type": "code",
   "execution_count": null,
   "metadata": {},
   "outputs": [],
   "source": []
  },
  {
   "cell_type": "code",
   "execution_count": null,
   "metadata": {},
   "outputs": [],
   "source": [
    "##\n",
    "SELECT username, COUNT(training_id), training_date, \n",
    "    (SELECT training_date, COUNT(training_id) AS num_trains\n",
    "           FROM training_details\n",
    "           GROUP BY training_date) \n",
    "FROM users\n",
    "JOIN training_id\n",
    "ON user_id\n",
    "WHERE num_trains > 1\n",
    "\n",
    "GROUP BY username, training_id\n",
    "ORDER BY training_date;\n"
   ]
  },
  {
   "cell_type": "code",
   "execution_count": null,
   "metadata": {},
   "outputs": [],
   "source": []
  }
 ],
 "metadata": {
  "kernelspec": {
   "display_name": "Python 3",
   "language": "python",
   "name": "python3"
  },
  "language_info": {
   "codemirror_mode": {
    "name": "ipython",
    "version": 3
   },
   "file_extension": ".py",
   "mimetype": "text/x-python",
   "name": "python",
   "nbconvert_exporter": "python",
   "pygments_lexer": "ipython3",
   "version": "3.8.5"
  }
 },
 "nbformat": 4,
 "nbformat_minor": 4
}
