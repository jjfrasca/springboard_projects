{
 "cells": [
  {
   "cell_type": "code",
   "execution_count": 62,
   "metadata": {},
   "outputs": [],
   "source": [
    "def vert_mirror(strng):\n",
    "    # your code\n",
    "    vert_list = []\n",
    "    #get input into list\n",
    "    strng_list = strng.split(\",\")\n",
    "    #reverse each list element's order\n",
    "    for str in strng_list:\n",
    "        vert_list.append(str[::-1])\n",
    "    #recombine each list into string\n",
    "    result = '\\n'.join(vert_list)\n",
    "    print(result)"
   ]
  },
  {
   "cell_type": "code",
   "execution_count": 63,
   "metadata": {},
   "outputs": [
    {
     "name": "stdout",
     "output_type": "stream",
     "text": [
      "uRySvw\n",
      "AvVTqb\n",
      "HxxvRi\n",
      "XxNNlC\n",
      "oaMDnH\n",
      "QHdgSh\n"
     ]
    }
   ],
   "source": [
    "vert_mirror(\"hSgdHQ\\nHnDMao\\nClNNxX\\niRvxxH\\nbqTVvA\\nwvSyRu\")"
   ]
  },
  {
   "cell_type": "code",
   "execution_count": 60,
   "metadata": {},
   "outputs": [],
   "source": [
    "def hor_mirror(strng2):\n",
    "    # your code\n",
    "    #get input into list\n",
    "    hor_list = strng2.split(\"\\n\")\n",
    "    #reverse each list element's order\n",
    "    hor_list.reverse()\n",
    "    #recombine each list into string\n",
    "    result = '\\r'.join(hor_list)\n",
    "    print(result)"
   ]
  },
  {
   "cell_type": "code",
   "execution_count": 61,
   "metadata": {},
   "outputs": [
    {
     "name": "stdout",
     "output_type": "stream",
     "text": [
      "yeCt\r",
      "CSbg\r",
      "JVhv\r",
      "lVHt\n"
     ]
    }
   ],
   "source": [
    "hor_mirror(\"lVHt\\nJVhv\\nCSbg\\nyeCt\")"
   ]
  },
  {
   "cell_type": "code",
   "execution_count": null,
   "metadata": {},
   "outputs": [],
   "source": [
    "def vert_mirror(strng):\n",
    "    # your code\n",
    "    vert_list = []\n",
    "    #get input into list\n",
    "    strng_list = strng.split(\"\\n\")\n",
    "    #reverse each list element's order\n",
    "    for str in strng_list:\n",
    "        vert_list.append(str[::-1])\n",
    "    #recombine each list into string\n",
    "    result = '\\r'.join(vert_list)\n",
    "    print(result)  \n",
    "    \n",
    "def hor_mirror(strng2):\n",
    "    # your code\n",
    "    #get input into list\n",
    "    hor_list = strng2.split(\"\\n\")\n",
    "    #reverse each list element's order\n",
    "    hor_list.reverse()\n",
    "    #recombine each list into string\n",
    "    result = '\\r'.join(hor_list)\n",
    "    print(result)\n",
    "    \n",
    "def oper(fct, s):\n",
    "    # your code\n",
    "    #if vert_mirror then complete associated function\n",
    "    #elif hor_mirror then complete associated function\n",
    "    #else print 'function not recognized, choose vert_mirror or hor_mirror'"
   ]
  }
 ],
 "metadata": {
  "kernelspec": {
   "display_name": "Python 3",
   "language": "python",
   "name": "python3"
  },
  "language_info": {
   "codemirror_mode": {
    "name": "ipython",
    "version": 3
   },
   "file_extension": ".py",
   "mimetype": "text/x-python",
   "name": "python",
   "nbconvert_exporter": "python",
   "pygments_lexer": "ipython3",
   "version": "3.8.5"
  }
 },
 "nbformat": 4,
 "nbformat_minor": 4
}
